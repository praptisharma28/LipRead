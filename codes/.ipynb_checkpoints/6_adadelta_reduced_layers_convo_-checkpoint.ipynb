{
 "cells": [
  {
   "cell_type": "code",
   "execution_count": 1,
   "metadata": {},
   "outputs": [
    {
     "name": "stderr",
     "output_type": "stream",
     "text": [
      "Using TensorFlow backend.\n"
     ]
    }
   ],
   "source": [
    "import os\n",
    "import numpy as np\n",
    "from keras.models import Sequential # To initialise the nn as a sequence of layers\n",
    "from keras.layers import Convolution2D # To make the convolution layer for 2D images\n",
    "from keras.layers import MaxPooling2D # \n",
    "from keras.layers import GlobalAveragePooling2D\n",
    "from keras.layers import Flatten\n",
    "from keras.layers import Dense\n",
    "from keras.layers import Dropout\n",
    "from keras.callbacks import CSVLogger\n",
    "from keras.optimizers import RMSprop\n",
    "from keras.layers import BatchNormalization\n",
    "from keras.optimizers import Adam\n",
    "from keras.models import load_model\n",
    "from keras.callbacks import ModelCheckpoint\n",
    "\n",
    "csv=CSVLogger(\"6_adadelta_reduced_layers_convo.log\")\n",
    "#filepath=\"weights-improvement-{epoch:02d}-{val_acc:.2f}.hdf5\"\n",
    "#checkpoint = ModelCheckpoint(filepath, monitor='val_acc', verbose=1, save_best_only=True, mode='max')\n",
    "\n",
    "\n",
    "# Initialising the CNN\n",
    "classifier = Sequential()\n",
    "\n",
    "# Step 1 - Convolution\n",
    "classifier.add(Convolution2D(32,(2,2),input_shape = (224,224,1), activation = 'relu',strides=2,name='convo1'))\n",
    "classifier.add(Convolution2D(64,(3,3), activation = 'relu',name='convo2'))\n",
    "# Step 2 - Pooling\n",
    "classifier.add(MaxPooling2D(pool_size = (2,2)))\n",
    "\n",
    "# Step 1 - Convolution\n",
    "classifier.add(Convolution2D(64,(3,3),activation = 'relu',name='convo3'))\n",
    "# Step 2 - Pooling\n",
    "classifier.add(MaxPooling2D(pool_size = (2,2)))\n",
    "\n",
    "classifier.add(BatchNormalization())\n",
    "classifier.add(GlobalAveragePooling2D())\n",
    "# As our model is still facing the problem so, we need to increase the regulization\n",
    "classifier.add(Dropout((0.5)))\n",
    "classifier.add(Dense(20, activation = 'softmax'))"
   ]
  },
  {
   "cell_type": "code",
   "execution_count": 4,
   "metadata": {},
   "outputs": [
    {
     "name": "stdout",
     "output_type": "stream",
     "text": [
      "Found 2600 images belonging to 20 classes.\n",
      "Found 200 images belonging to 20 classes.\n"
     ]
    }
   ],
   "source": [
    "\n",
    "classifier.compile(optimizer = 'adadelta', loss = 'categorical_crossentropy', metrics = ['accuracy'])\n",
    "\n",
    "from keras.preprocessing.image import ImageDataGenerator\n",
    "\n",
    "train_datagen = ImageDataGenerator(rescale=1./255)\n",
    "\n",
    "test_datagen = ImageDataGenerator(rescale=1./255)\n",
    "\n",
    "curr_path = os.getcwd()\n",
    "basefolder = os.path.dirname(curr_path)\n",
    "\n",
    "train_folder = os.path.join(basefolder, \"Dataset\\\\Train\")\n",
    "test_folder = os.path.join(basefolder, \"Dataset\\\\dev\")\n",
    "\"\"\"\n",
    "# Changes for linux\n",
    "train_folder = os.path.join(basefolder, \"Dataset/Train\")\n",
    "test_folder = os.path.join(basefolder, \"Dataset/dev\")\n",
    "\"\"\"\n",
    "train_set = train_datagen.flow_from_directory(train_folder,target_size=(224, 224),batch_size=64,class_mode='categorical',color_mode='grayscale')\n",
    "\n",
    "test_set = test_datagen.flow_from_directory(test_folder,target_size=(224, 224),batch_size=64,class_mode='categorical',color_mode='grayscale')"
   ]
  },
  {
   "cell_type": "code",
   "execution_count": 5,
   "metadata": {},
   "outputs": [
    {
     "name": "stdout",
     "output_type": "stream",
     "text": [
      "Epoch 1/10\n",
      "547s - loss: 0.7014 - acc: 0.7808 - val_loss: 3.4291 - val_acc: 0.2850\n",
      "Epoch 2/10\n",
      "552s - loss: 0.5795 - acc: 0.8189 - val_loss: 3.7355 - val_acc: 0.2303\n",
      "Epoch 3/10\n",
      "504s - loss: 0.4895 - acc: 0.8466 - val_loss: 5.0511 - val_acc: 0.2192\n",
      "Epoch 4/10\n",
      "504s - loss: 0.4183 - acc: 0.8686 - val_loss: 3.4975 - val_acc: 0.2855\n",
      "Epoch 5/10\n",
      "502s - loss: 0.3650 - acc: 0.8853 - val_loss: 3.9808 - val_acc: 0.2406\n",
      "Epoch 6/10\n",
      "501s - loss: 0.3232 - acc: 0.8971 - val_loss: 4.1222 - val_acc: 0.3006\n",
      "Epoch 7/10\n",
      "502s - loss: 0.2845 - acc: 0.9105 - val_loss: 4.2323 - val_acc: 0.3052\n",
      "Epoch 8/10\n",
      "504s - loss: 0.2556 - acc: 0.9186 - val_loss: 4.0734 - val_acc: 0.2553\n",
      "Epoch 9/10\n",
      "502s - loss: 0.2336 - acc: 0.9251 - val_loss: 4.5744 - val_acc: 0.3098\n",
      "Epoch 10/10\n",
      "501s - loss: 0.2110 - acc: 0.9325 - val_loss: 4.3137 - val_acc: 0.2897\n"
     ]
    }
   ],
   "source": [
    "history = classifier.fit_generator(train_set,steps_per_epoch=2600,epochs=10,validation_data=test_set,validation_steps=200,callbacks=[csv],verbose=2)"
   ]
  }
 ],
 "metadata": {
  "kernelspec": {
   "display_name": "Python [default]",
   "language": "python",
   "name": "python3"
  },
  "language_info": {
   "codemirror_mode": {
    "name": "ipython",
    "version": 3
   },
   "file_extension": ".py",
   "mimetype": "text/x-python",
   "name": "python",
   "nbconvert_exporter": "python",
   "pygments_lexer": "ipython3",
   "version": "3.6.1"
  }
 },
 "nbformat": 4,
 "nbformat_minor": 2
}

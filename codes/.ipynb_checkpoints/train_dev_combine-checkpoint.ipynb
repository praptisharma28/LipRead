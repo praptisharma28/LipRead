{
 "cells": [
  {
   "cell_type": "code",
   "execution_count": 1,
   "metadata": {},
   "outputs": [],
   "source": [
    "import os\n",
    "import PIL\n",
    "from PIL import Image\n",
    "import numpy as np\n",
    "import pandas as pd\n",
    "import matplotlib.pyplot as plt\n",
    "import matplotlib.image as mpimg"
   ]
  },
  {
   "cell_type": "code",
   "execution_count": 2,
   "metadata": {},
   "outputs": [
    {
     "data": {
      "text/plain": [
       "'/home/saquib/Documents/LipNet/codes'"
      ]
     },
     "execution_count": 2,
     "metadata": {},
     "output_type": "execute_result"
    }
   ],
   "source": [
    "os.getcwd()"
   ]
  },
  {
   "cell_type": "code",
   "execution_count": 3,
   "metadata": {},
   "outputs": [],
   "source": [
    "os.chdir('..')"
   ]
  },
  {
   "cell_type": "code",
   "execution_count": 4,
   "metadata": {},
   "outputs": [],
   "source": [
    "os.chdir('Dataset')\n",
    "os.chdir('dev')\n",
    "train = []\n",
    "label = []\n",
    "for f in os.listdir():\n",
    "    os.chdir(f)\n",
    "    for p in os.listdir():\n",
    "        img = plt.imread(p)\n",
    "        label.append(f)\n",
    "        train.append(img)\n",
    "    os.chdir('..')\n",
    "    os.chdir('..')\n",
    "    os.chdir('Train')\n",
    "    os.chdir(f)\n",
    "    for p in os.listdir():\n",
    "        img = plt.imread(p)\n",
    "        label.append(f)\n",
    "        train.append(img)\n",
    "    os.chdir('..')\n",
    "    os.chdir('..')\n",
    "    os.chdir('dev')"
   ]
  },
  {
   "cell_type": "code",
   "execution_count": 5,
   "metadata": {},
   "outputs": [],
   "source": [
    "train = np.array(train)\n",
    "label = np.array(label)"
   ]
  },
  {
   "cell_type": "code",
   "execution_count": 6,
   "metadata": {},
   "outputs": [
    {
     "name": "stderr",
     "output_type": "stream",
     "text": [
      "/home/saquib/anaconda3/envs/tensorflow/lib/python3.5/site-packages/h5py/__init__.py:34: FutureWarning: Conversion of the second argument of issubdtype from `float` to `np.floating` is deprecated. In future, it will be treated as `np.float64 == np.dtype(float).type`.\n",
      "  from ._conv import register_converters as _register_converters\n",
      "Using TensorFlow backend.\n"
     ]
    }
   ],
   "source": [
    "from keras.models import Sequential # To initialise the nn as a sequence of layers\n",
    "from keras.layers import Convolution2D # To make the convolution layer for 2D images\n",
    "from keras.layers import MaxPooling2D # \n",
    "from keras.layers import GlobalAveragePooling2D\n",
    "from keras.layers import Flatten\n",
    "from keras.layers import Dense\n",
    "from keras.layers import Dropout\n",
    "from keras.callbacks import CSVLogger\n",
    "from keras.optimizers import RMSprop\n",
    "from keras.layers import BatchNormalization\n",
    "from keras.optimizers import Adam\n",
    "from keras.models import load_model\n",
    "from keras.callbacks import ModelCheckpoint"
   ]
  },
  {
   "cell_type": "code",
   "execution_count": 7,
   "metadata": {},
   "outputs": [
    {
     "name": "stdout",
     "output_type": "stream",
     "text": [
      "WARNING:tensorflow:From /home/saquib/anaconda3/envs/tensorflow/lib/python3.5/site-packages/keras/backend/tensorflow_backend.py:1340: calling reduce_mean (from tensorflow.python.ops.math_ops) with keep_dims is deprecated and will be removed in a future version.\n",
      "Instructions for updating:\n",
      "keep_dims is deprecated, use keepdims instead\n"
     ]
    }
   ],
   "source": [
    "csv=CSVLogger(\"train_dev_combine.log\")\n",
    "#filepath=\"weights-improvement-{epoch:02d}-{val_acc:.2f}.hdf5\"\n",
    "#checkpoint = ModelCheckpoint(filepath, monitor='val_acc', verbose=1, save_best_only=True, mode='max')\n",
    "\n",
    "\n",
    "# Initialising the CNN\n",
    "classifier = Sequential()\n",
    "\n",
    "# Step 1 - Convolution\n",
    "classifier.add(Convolution2D(32,(2,2),input_shape = (224,224,1),strides=2,name='convo1'))\n",
    "classifier.add(Convolution2D(64,(3,3), activation = 'relu',name='convo2'))\n",
    "# Step 2 - Pooling\n",
    "classifier.add(MaxPooling2D(pool_size = (2,2)))\n",
    "\n",
    "# Step 1 - Convolution\n",
    "classifier.add(Convolution2D(64,(3,3),activation = 'relu',name='convo3'))\n",
    "# Step 2 - Pooling\n",
    "classifier.add(MaxPooling2D(pool_size = (2,2)))\n",
    "\n",
    "classifier.add(GlobalAveragePooling2D())\n",
    "# As our model is still facing the problem so, we need to increase the regulization\n",
    "classifier.add(Dropout((0.5)))\n",
    "classifier.add(Dense(20, activation = 'softmax'))"
   ]
  },
  {
   "cell_type": "code",
   "execution_count": 8,
   "metadata": {},
   "outputs": [
    {
     "name": "stdout",
     "output_type": "stream",
     "text": [
      "WARNING:tensorflow:From /home/saquib/anaconda3/envs/tensorflow/lib/python3.5/site-packages/keras/backend/tensorflow_backend.py:2857: calling reduce_sum (from tensorflow.python.ops.math_ops) with keep_dims is deprecated and will be removed in a future version.\n",
      "Instructions for updating:\n",
      "keep_dims is deprecated, use keepdims instead\n"
     ]
    }
   ],
   "source": [
    "classifier.compile(optimizer = 'adadelta', loss = 'categorical_crossentropy', metrics = ['accuracy'])"
   ]
  },
  {
   "cell_type": "code",
   "execution_count": 9,
   "metadata": {},
   "outputs": [
    {
     "name": "stderr",
     "output_type": "stream",
     "text": [
      "/home/saquib/anaconda3/envs/tensorflow/lib/python3.5/site-packages/sklearn/cross_validation.py:41: DeprecationWarning: This module was deprecated in version 0.18 in favor of the model_selection module into which all the refactored classes and functions are moved. Also note that the interface of the new CV iterators are different from that of this module. This module will be removed in 0.20.\n",
      "  \"This module will be removed in 0.20.\", DeprecationWarning)\n"
     ]
    }
   ],
   "source": [
    "from sklearn.cross_validation import train_test_split"
   ]
  },
  {
   "cell_type": "code",
   "execution_count": 10,
   "metadata": {
    "collapsed": true
   },
   "outputs": [],
   "source": []
  },
  {
   "cell_type": "code",
   "execution_count": 10,
   "metadata": {},
   "outputs": [],
   "source": [
    "from keras import backend as K"
   ]
  },
  {
   "cell_type": "code",
   "execution_count": 11,
   "metadata": {},
   "outputs": [],
   "source": [
    "import keras "
   ]
  },
  {
   "cell_type": "code",
   "execution_count": 12,
   "metadata": {},
   "outputs": [
    {
     "data": {
      "text/plain": [
       "(2800, 224, 224)"
      ]
     },
     "execution_count": 12,
     "metadata": {},
     "output_type": "execute_result"
    }
   ],
   "source": [
    "train.shape"
   ]
  },
  {
   "cell_type": "code",
   "execution_count": 13,
   "metadata": {},
   "outputs": [
    {
     "data": {
      "text/plain": [
       "(2800,)"
      ]
     },
     "execution_count": 13,
     "metadata": {},
     "output_type": "execute_result"
    }
   ],
   "source": [
    "label.shape"
   ]
  },
  {
   "cell_type": "code",
   "execution_count": 14,
   "metadata": {},
   "outputs": [],
   "source": [
    "def start(i):\n",
    "    X_train,X_test,y_train,y_test = train_test_split(train,label,test_size = 0.2)\n",
    "    X_shape = X_train.shape\n",
    "    print('Epoch-{}'.format(i))\n",
    "    img_rows = 224\n",
    "    img_cols = 224\n",
    "    if K.image_data_format() == 'channels_first':\n",
    "        input_shape = (1, img_rows, img_cols)\n",
    "    else:\n",
    "        input_shape = (img_rows, img_cols, 1)\n",
    "    X_train_s = X_train.reshape((X_train.shape[0],) + input_shape)\n",
    "    X_train_s = X_train_s.astype('float32')\n",
    "    X_test_s = X_test.reshape((X_test.shape[0],) + input_shape)\n",
    "    X_test_s = X_test_s.astype('float32')\n",
    "    X_train_s /= 255\n",
    "    X_test_s /= 255\n",
    "    y_train = keras.utils.to_categorical(y_train, 20)\n",
    "    y_test = keras.utils.to_categorical(y_test, 20)\n",
    "    classifier.fit(X_train_s,y_train,batch_size=32,epochs=1,validation_data=(X_test_s, y_test))"
   ]
  },
  {
   "cell_type": "code",
   "execution_count": 15,
   "metadata": {},
   "outputs": [
    {
     "name": "stdout",
     "output_type": "stream",
     "text": [
      "Epoch-0\n",
      "Train on 2240 samples, validate on 560 samples\n",
      "Epoch 1/1\n",
      "2240/2240 [==============================] - 248s 111ms/step - loss: 2.9986 - acc: 0.0446 - val_loss: 2.9976 - val_acc: 0.0518\n",
      "Epoch-1\n",
      "Train on 2240 samples, validate on 560 samples\n",
      "Epoch 1/1\n",
      "2240/2240 [==============================] - 217s 97ms/step - loss: 2.9974 - acc: 0.0496 - val_loss: 2.9962 - val_acc: 0.0607\n",
      "Epoch-2\n",
      "Train on 2240 samples, validate on 560 samples\n",
      "Epoch 1/1\n",
      "2240/2240 [==============================] - 219s 98ms/step - loss: 2.9963 - acc: 0.0513 - val_loss: 2.9965 - val_acc: 0.0446\n",
      "Epoch-3\n",
      "Train on 2240 samples, validate on 560 samples\n",
      "Epoch 1/1\n",
      "2240/2240 [==============================] - 222s 99ms/step - loss: 2.9961 - acc: 0.0563 - val_loss: 2.9968 - val_acc: 0.0500\n",
      "Epoch-4\n",
      "Train on 2240 samples, validate on 560 samples\n",
      "Epoch 1/1\n",
      "2240/2240 [==============================] - 253s 113ms/step - loss: 2.9961 - acc: 0.0513 - val_loss: 2.9965 - val_acc: 0.0375\n",
      "Epoch-5\n",
      "Train on 2240 samples, validate on 560 samples\n",
      "Epoch 1/1\n",
      "2240/2240 [==============================] - 250s 111ms/step - loss: 2.9963 - acc: 0.0473 - val_loss: 2.9959 - val_acc: 0.0536\n",
      "Epoch-6\n",
      "Train on 2240 samples, validate on 560 samples\n",
      "Epoch 1/1\n",
      "2240/2240 [==============================] - 239s 107ms/step - loss: 2.9961 - acc: 0.0482 - val_loss: 2.9979 - val_acc: 0.0464\n",
      "Epoch-7\n",
      "Train on 2240 samples, validate on 560 samples\n",
      "Epoch 1/1\n",
      "2240/2240 [==============================] - 241s 108ms/step - loss: 2.9963 - acc: 0.0397 - val_loss: 2.9961 - val_acc: 0.0518\n",
      "Epoch-8\n",
      "Train on 2240 samples, validate on 560 samples\n",
      "Epoch 1/1\n",
      "2240/2240 [==============================] - 227s 101ms/step - loss: 2.9963 - acc: 0.0482 - val_loss: 2.9959 - val_acc: 0.0446\n",
      "Epoch-9\n",
      "Train on 2240 samples, validate on 560 samples\n",
      "Epoch 1/1\n",
      "2240/2240 [==============================] - 223s 100ms/step - loss: 2.9957 - acc: 0.0567 - val_loss: 2.9963 - val_acc: 0.0589\n",
      "Epoch-10\n",
      "Train on 2240 samples, validate on 560 samples\n",
      "Epoch 1/1\n",
      "2240/2240 [==============================] - 242s 108ms/step - loss: 2.9962 - acc: 0.0540 - val_loss: 2.9962 - val_acc: 0.0482\n",
      "Epoch-11\n",
      "Train on 2240 samples, validate on 560 samples\n",
      "Epoch 1/1\n",
      "2240/2240 [==============================] - 228s 102ms/step - loss: 2.9955 - acc: 0.0594 - val_loss: 2.9965 - val_acc: 0.0536\n",
      "Epoch-12\n",
      "Train on 2240 samples, validate on 560 samples\n",
      "Epoch 1/1\n",
      "2240/2240 [==============================] - 244s 109ms/step - loss: 2.9951 - acc: 0.0580 - val_loss: 2.9955 - val_acc: 0.0446\n",
      "Epoch-13\n",
      "Train on 2240 samples, validate on 560 samples\n",
      "Epoch 1/1\n",
      "2240/2240 [==============================] - 228s 102ms/step - loss: 2.9945 - acc: 0.0612 - val_loss: 2.9960 - val_acc: 0.0732\n",
      "Epoch-14\n",
      "Train on 2240 samples, validate on 560 samples\n",
      "Epoch 1/1\n",
      "2240/2240 [==============================] - 216s 96ms/step - loss: 2.9948 - acc: 0.0616 - val_loss: 2.9928 - val_acc: 0.0643\n",
      "Epoch-15\n",
      "Train on 2240 samples, validate on 560 samples\n",
      "Epoch 1/1\n",
      "2240/2240 [==============================] - 225s 100ms/step - loss: 2.9933 - acc: 0.0705 - val_loss: 2.9944 - val_acc: 0.0625\n",
      "Epoch-16\n",
      "Train on 2240 samples, validate on 560 samples\n",
      "Epoch 1/1\n",
      "2240/2240 [==============================] - 227s 101ms/step - loss: 2.9911 - acc: 0.0647 - val_loss: 2.9923 - val_acc: 0.0643\n",
      "Epoch-17\n",
      "Train on 2240 samples, validate on 560 samples\n",
      "Epoch 1/1\n",
      "2240/2240 [==============================] - 228s 102ms/step - loss: 2.9911 - acc: 0.0692 - val_loss: 2.9929 - val_acc: 0.0643\n",
      "Epoch-18\n",
      "Train on 2240 samples, validate on 560 samples\n",
      "Epoch 1/1\n",
      "2240/2240 [==============================] - 215s 96ms/step - loss: 2.9898 - acc: 0.0670 - val_loss: 2.9828 - val_acc: 0.0625\n",
      "Epoch-19\n",
      "Train on 2240 samples, validate on 560 samples\n",
      "Epoch 1/1\n",
      "2240/2240 [==============================] - 206s 92ms/step - loss: 2.9887 - acc: 0.0696 - val_loss: 2.9847 - val_acc: 0.0768\n"
     ]
    }
   ],
   "source": [
    "for i in range(20):\n",
    "    start(i)"
   ]
  },
  {
   "cell_type": "code",
   "execution_count": 16,
   "metadata": {},
   "outputs": [
    {
     "name": "stdout",
     "output_type": "stream",
     "text": [
      "Epoch-0\n",
      "Train on 2240 samples, validate on 560 samples\n",
      "Epoch 1/1\n",
      "2240/2240 [==============================] - 206s 92ms/step - loss: 2.9860 - acc: 0.0692 - val_loss: 2.9845 - val_acc: 0.0732\n",
      "Epoch-1\n",
      "Train on 2240 samples, validate on 560 samples\n",
      "Epoch 1/1\n",
      "2240/2240 [==============================] - 209s 93ms/step - loss: 2.9869 - acc: 0.0647 - val_loss: 2.9762 - val_acc: 0.0804\n",
      "Epoch-2\n",
      "Train on 2240 samples, validate on 560 samples\n",
      "Epoch 1/1\n",
      "2240/2240 [==============================] - 205s 92ms/step - loss: 2.9835 - acc: 0.0629 - val_loss: 2.9873 - val_acc: 0.0661\n",
      "Epoch-3\n",
      "Train on 2240 samples, validate on 560 samples\n",
      "Epoch 1/1\n",
      "2240/2240 [==============================] - 210s 94ms/step - loss: 2.9767 - acc: 0.0728 - val_loss: 2.9865 - val_acc: 0.0500\n",
      "Epoch-4\n",
      "Train on 2240 samples, validate on 560 samples\n",
      "Epoch 1/1\n",
      "2240/2240 [==============================] - 206s 92ms/step - loss: 2.9805 - acc: 0.0687 - val_loss: 2.9812 - val_acc: 0.0875\n",
      "Epoch-5\n",
      "Train on 2240 samples, validate on 560 samples\n",
      "Epoch 1/1\n",
      "2240/2240 [==============================] - 206s 92ms/step - loss: 2.9805 - acc: 0.0696 - val_loss: 2.9716 - val_acc: 0.0768\n",
      "Epoch-6\n",
      "Train on 2240 samples, validate on 560 samples\n",
      "Epoch 1/1\n",
      "2240/2240 [==============================] - 206s 92ms/step - loss: 2.9811 - acc: 0.0656 - val_loss: 2.9642 - val_acc: 0.0875\n",
      "Epoch-7\n",
      "Train on 2240 samples, validate on 560 samples\n",
      "Epoch 1/1\n",
      "2240/2240 [==============================] - 207s 92ms/step - loss: 2.9764 - acc: 0.0768 - val_loss: 2.9684 - val_acc: 0.0875\n",
      "Epoch-8\n",
      "Train on 2240 samples, validate on 560 samples\n",
      "Epoch 1/1\n",
      "2240/2240 [==============================] - 206s 92ms/step - loss: 2.9690 - acc: 0.0670 - val_loss: 2.9814 - val_acc: 0.0804\n",
      "Epoch-9\n",
      "Train on 2240 samples, validate on 560 samples\n",
      "Epoch 1/1\n",
      "2240/2240 [==============================] - 207s 92ms/step - loss: 2.9708 - acc: 0.0772 - val_loss: 2.9703 - val_acc: 0.0750\n"
     ]
    }
   ],
   "source": [
    "for i in range(10):\n",
    "    start(i)"
   ]
  }
 ],
 "metadata": {
  "kernelspec": {
   "display_name": "Python 3",
   "language": "python",
   "name": "python3"
  },
  "language_info": {
   "codemirror_mode": {
    "name": "ipython",
    "version": 3
   },
   "file_extension": ".py",
   "mimetype": "text/x-python",
   "name": "python",
   "nbconvert_exporter": "python",
   "pygments_lexer": "ipython3",
   "version": "3.5.4"
  }
 },
 "nbformat": 4,
 "nbformat_minor": 2
}
